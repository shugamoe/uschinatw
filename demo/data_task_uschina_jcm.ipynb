{
 "cells": [
  {
   "cell_type": "markdown",
   "metadata": {},
   "source": [
    "# Julian McClellan\n",
    "## Data Task\n",
    "### Selection"
   ]
  },
  {
   "cell_type": "markdown",
   "metadata": {},
   "source": [
    "First, I go to [CropScape](https://nassgeodata.gmu.edu/CropScape/) and select Autauga County, Alabama as my area of interest. ![](./img/select_al.png)"
   ]
  },
  {
   "cell_type": "markdown",
   "metadata": {},
   "source": [
    "Then, I generate a .tif image from the application utilizing all available data in the Cropland Data Layer for this county."
   ]
  },
  {
   "cell_type": "markdown",
   "metadata": {},
   "source": [
    "![](./img/select_cdl.png)"
   ]
  },
  {
   "cell_type": "markdown",
   "metadata": {},
   "source": [
    "![](./img/save_tif.png)"
   ]
  },
  {
   "cell_type": "markdown",
   "metadata": {},
   "source": [
    "### Dataset creation\n",
    "\n",
    "Browsing through stack exchange, I find a way to extract latitude and longitude from the .tif file I downloaded. The code below also extracts the \"pixel values\" of the image (integers that specify the colors indicating different land cover types). I'll decode these later using the [2017 AL metadata.](https://www.nass.usda.gov/Research_and_Science/Cropland/metadata/metadata_al17.htm)\n",
    "\n",
    "The package utilized below, rasterio, also has support for reading .img files, which the [national download CDL files](https://www.nass.usda.gov/Research_and_Science/Cropland/Release/index.php) linked to from the CropScape application contain."
   ]
  },
  {
   "cell_type": "code",
   "execution_count": 1,
   "metadata": {},
   "outputs": [
    {
     "name": "stderr",
     "output_type": "stream",
     "text": [
      "C:\\Users\\jcm\\Anaconda3\\lib\\site-packages\\ipykernel_launcher.py:21: DeprecationWarning: Right multiplication will be prohibited in version 3.0\n"
     ]
    }
   ],
   "source": [
    "# non-original comments in this cell denoted with \"##\"\n",
    "# https://gis.stackexchange.com/questions/129847/obtain-coordinates-and-corresponding-pixel-values-from-geotiff-using-python-gdal\n",
    "import rasterio\n",
    "import numpy as np\n",
    "from affine import Affine\n",
    "from pyproj import Proj, transform\n",
    "fname = './D__CDL_NASS_DATA_CACHE_extract_1942934485_CDL_2017_01001.tif'\n",
    "\n",
    "## Read raster\n",
    "with rasterio.open(fname) as r:\n",
    "    T0 = r.transform  ## upper-left pixel corner affine transform\n",
    "    p1 = Proj(r.crs)\n",
    "    A = r.read()  ## pixel values\n",
    "\n",
    "## All rows and columns\n",
    "cols, rows = np.meshgrid(np.arange(A.shape[2]), np.arange(A.shape[1]))\n",
    "\n",
    "## Get affine transform for pixel centres\n",
    "T1 = T0 * Affine.translation(0.5, 0.5)\n",
    "## Function to convert pixel row/column index (from 0) to easting/northing at centre\n",
    "rc2en = lambda r, c: (c, r) * T1\n",
    "\n",
    "## All eastings and northings (there is probably a faster way to do this)\n",
    "eastings, northings = np.vectorize(rc2en, otypes=[np.float, np.float])(rows, cols)\n",
    "\n",
    "## Project all longitudes, latitudes\n",
    "p2 = Proj(proj='latlong',datum='WGS84') # can use other standards besides wgs84\n",
    "longs, lats = transform(p1, p2, eastings, northings)"
   ]
  },
  {
   "cell_type": "markdown",
   "metadata": {},
   "source": [
    "I made a csv *pixel_values_2017_dict_al.csv* using the [metadata .htm file for AL in 2017](https://www.nass.usda.gov/Research_and_Science/Cropland/metadata/metadata_al17.htm). I utilized [regexr.com](https://regexr.com/) but this could be done with Python's re package. This will be used to decode the pixel values contained in variable *A*.\n",
    "\n",
    "![](./img/regexr.png)"
   ]
  },
  {
   "cell_type": "code",
   "execution_count": 2,
   "metadata": {
    "scrolled": false
   },
   "outputs": [
    {
     "data": {
      "text/html": [
       "<div>\n",
       "<style scoped>\n",
       "    .dataframe tbody tr th:only-of-type {\n",
       "        vertical-align: middle;\n",
       "    }\n",
       "\n",
       "    .dataframe tbody tr th {\n",
       "        vertical-align: top;\n",
       "    }\n",
       "\n",
       "    .dataframe thead th {\n",
       "        text-align: right;\n",
       "    }\n",
       "</style>\n",
       "<table border=\"1\" class=\"dataframe\">\n",
       "  <thead>\n",
       "    <tr style=\"text-align: right;\">\n",
       "      <th></th>\n",
       "      <th>pixel_value_num</th>\n",
       "      <th>land_cover</th>\n",
       "    </tr>\n",
       "  </thead>\n",
       "  <tbody>\n",
       "    <tr>\n",
       "      <td>0</td>\n",
       "      <td>0</td>\n",
       "      <td>Background</td>\n",
       "    </tr>\n",
       "    <tr>\n",
       "      <td>1</td>\n",
       "      <td>1</td>\n",
       "      <td>Corn</td>\n",
       "    </tr>\n",
       "    <tr>\n",
       "      <td>2</td>\n",
       "      <td>2</td>\n",
       "      <td>Cotton</td>\n",
       "    </tr>\n",
       "    <tr>\n",
       "      <td>3</td>\n",
       "      <td>3</td>\n",
       "      <td>Rice</td>\n",
       "    </tr>\n",
       "    <tr>\n",
       "      <td>4</td>\n",
       "      <td>4</td>\n",
       "      <td>Sorghum</td>\n",
       "    </tr>\n",
       "    <tr>\n",
       "      <td>...</td>\n",
       "      <td>...</td>\n",
       "      <td>...</td>\n",
       "    </tr>\n",
       "    <tr>\n",
       "      <td>128</td>\n",
       "      <td>247</td>\n",
       "      <td>Turnips</td>\n",
       "    </tr>\n",
       "    <tr>\n",
       "      <td>129</td>\n",
       "      <td>248</td>\n",
       "      <td>Eggplants</td>\n",
       "    </tr>\n",
       "    <tr>\n",
       "      <td>130</td>\n",
       "      <td>249</td>\n",
       "      <td>Gourds</td>\n",
       "    </tr>\n",
       "    <tr>\n",
       "      <td>131</td>\n",
       "      <td>250</td>\n",
       "      <td>Cranberries</td>\n",
       "    </tr>\n",
       "    <tr>\n",
       "      <td>132</td>\n",
       "      <td>254</td>\n",
       "      <td>Dbl Crop Barley/Soybeans</td>\n",
       "    </tr>\n",
       "  </tbody>\n",
       "</table>\n",
       "<p>133 rows × 2 columns</p>\n",
       "</div>"
      ],
      "text/plain": [
       "     pixel_value_num                land_cover\n",
       "0                  0                Background\n",
       "1                  1                      Corn\n",
       "2                  2                    Cotton\n",
       "3                  3                      Rice\n",
       "4                  4                   Sorghum\n",
       "..               ...                       ...\n",
       "128              247                   Turnips\n",
       "129              248                 Eggplants\n",
       "130              249                    Gourds\n",
       "131              250               Cranberries\n",
       "132              254  Dbl Crop Barley/Soybeans\n",
       "\n",
       "[133 rows x 2 columns]"
      ]
     },
     "execution_count": 2,
     "metadata": {},
     "output_type": "execute_result"
    }
   ],
   "source": [
    "import pandas as pd\n",
    "\n",
    "pixel_val_dict_al = pd.read_csv('pixel_values_2017_dict_al.csv', names=['pixel_value_num', 'land_cover'])\n",
    "pixel_val_dict_al"
   ]
  },
  {
   "cell_type": "markdown",
   "metadata": {},
   "source": [
    "Aiming for a csv here with a header of *lat, lon, pixel_value_num, land_cover*, so I flatten each of the arrays, and stack along the appropriate axis and create a dataframe"
   ]
  },
  {
   "cell_type": "code",
   "execution_count": 3,
   "metadata": {},
   "outputs": [],
   "source": [
    "final_df = pd.DataFrame(np.stack([lats.flatten(), longs.flatten(), A[0].flatten()], axis=1), columns=['lat', 'lon', 'pixel_value_num'])"
   ]
  },
  {
   "cell_type": "markdown",
   "metadata": {},
   "source": [
    "Merge the metadata csv I created to decode the pixel values."
   ]
  },
  {
   "cell_type": "code",
   "execution_count": 4,
   "metadata": {},
   "outputs": [
    {
     "data": {
      "text/html": [
       "<div>\n",
       "<style scoped>\n",
       "    .dataframe tbody tr th:only-of-type {\n",
       "        vertical-align: middle;\n",
       "    }\n",
       "\n",
       "    .dataframe tbody tr th {\n",
       "        vertical-align: top;\n",
       "    }\n",
       "\n",
       "    .dataframe thead th {\n",
       "        text-align: right;\n",
       "    }\n",
       "</style>\n",
       "<table border=\"1\" class=\"dataframe\">\n",
       "  <thead>\n",
       "    <tr style=\"text-align: right;\">\n",
       "      <th></th>\n",
       "      <th>lat</th>\n",
       "      <th>lon</th>\n",
       "      <th>pixel_value_num</th>\n",
       "      <th>land_cover</th>\n",
       "    </tr>\n",
       "  </thead>\n",
       "  <tbody>\n",
       "    <tr>\n",
       "      <td>0</td>\n",
       "      <td>32.748283</td>\n",
       "      <td>-86.910921</td>\n",
       "      <td>0.0</td>\n",
       "      <td>Background</td>\n",
       "    </tr>\n",
       "    <tr>\n",
       "      <td>1</td>\n",
       "      <td>32.748258</td>\n",
       "      <td>-86.910601</td>\n",
       "      <td>0.0</td>\n",
       "      <td>Background</td>\n",
       "    </tr>\n",
       "    <tr>\n",
       "      <td>2</td>\n",
       "      <td>32.748232</td>\n",
       "      <td>-86.910280</td>\n",
       "      <td>0.0</td>\n",
       "      <td>Background</td>\n",
       "    </tr>\n",
       "    <tr>\n",
       "      <td>3</td>\n",
       "      <td>32.748206</td>\n",
       "      <td>-86.909960</td>\n",
       "      <td>0.0</td>\n",
       "      <td>Background</td>\n",
       "    </tr>\n",
       "    <tr>\n",
       "      <td>4</td>\n",
       "      <td>32.748181</td>\n",
       "      <td>-86.909639</td>\n",
       "      <td>0.0</td>\n",
       "      <td>Background</td>\n",
       "    </tr>\n",
       "    <tr>\n",
       "      <td>...</td>\n",
       "      <td>...</td>\n",
       "      <td>...</td>\n",
       "      <td>...</td>\n",
       "      <td>...</td>\n",
       "    </tr>\n",
       "    <tr>\n",
       "      <td>2678539</td>\n",
       "      <td>32.275695</td>\n",
       "      <td>-86.428682</td>\n",
       "      <td>0.0</td>\n",
       "      <td>Background</td>\n",
       "    </tr>\n",
       "    <tr>\n",
       "      <td>2678540</td>\n",
       "      <td>32.275668</td>\n",
       "      <td>-86.428364</td>\n",
       "      <td>0.0</td>\n",
       "      <td>Background</td>\n",
       "    </tr>\n",
       "    <tr>\n",
       "      <td>2678541</td>\n",
       "      <td>32.275641</td>\n",
       "      <td>-86.428045</td>\n",
       "      <td>0.0</td>\n",
       "      <td>Background</td>\n",
       "    </tr>\n",
       "    <tr>\n",
       "      <td>2678542</td>\n",
       "      <td>32.275614</td>\n",
       "      <td>-86.427727</td>\n",
       "      <td>0.0</td>\n",
       "      <td>Background</td>\n",
       "    </tr>\n",
       "    <tr>\n",
       "      <td>2678543</td>\n",
       "      <td>32.275587</td>\n",
       "      <td>-86.427408</td>\n",
       "      <td>0.0</td>\n",
       "      <td>Background</td>\n",
       "    </tr>\n",
       "  </tbody>\n",
       "</table>\n",
       "<p>2678544 rows × 4 columns</p>\n",
       "</div>"
      ],
      "text/plain": [
       "               lat        lon  pixel_value_num  land_cover\n",
       "0        32.748283 -86.910921              0.0  Background\n",
       "1        32.748258 -86.910601              0.0  Background\n",
       "2        32.748232 -86.910280              0.0  Background\n",
       "3        32.748206 -86.909960              0.0  Background\n",
       "4        32.748181 -86.909639              0.0  Background\n",
       "...            ...        ...              ...         ...\n",
       "2678539  32.275695 -86.428682              0.0  Background\n",
       "2678540  32.275668 -86.428364              0.0  Background\n",
       "2678541  32.275641 -86.428045              0.0  Background\n",
       "2678542  32.275614 -86.427727              0.0  Background\n",
       "2678543  32.275587 -86.427408              0.0  Background\n",
       "\n",
       "[2678544 rows x 4 columns]"
      ]
     },
     "execution_count": 4,
     "metadata": {},
     "output_type": "execute_result"
    }
   ],
   "source": [
    "final_df = pd.merge(final_df, pixel_val_dict_al, how='left', on='pixel_value_num')\n",
    "final_df"
   ]
  },
  {
   "cell_type": "markdown",
   "metadata": {},
   "source": [
    "Check if the dictionary didn't cover any pixel_value_nums"
   ]
  },
  {
   "cell_type": "code",
   "execution_count": 5,
   "metadata": {},
   "outputs": [
    {
     "data": {
      "text/plain": [
       "lat                False\n",
       "lon                False\n",
       "pixel_value_num    False\n",
       "land_cover         False\n",
       "dtype: bool"
      ]
     },
     "execution_count": 5,
     "metadata": {},
     "output_type": "execute_result"
    }
   ],
   "source": [
    "final_df.isna().any()"
   ]
  },
  {
   "cell_type": "markdown",
   "metadata": {},
   "source": [
    "### Final dataset\n",
    "\n",
    "The column pixel_value_num seems to be a float unncessarily, make it an int. \n",
    "\n",
    "Additionally, I remove the background pixels (The black, useless pixels in the original .tif image)"
   ]
  },
  {
   "cell_type": "code",
   "execution_count": 6,
   "metadata": {},
   "outputs": [
    {
     "data": {
      "text/html": [
       "<div>\n",
       "<style scoped>\n",
       "    .dataframe tbody tr th:only-of-type {\n",
       "        vertical-align: middle;\n",
       "    }\n",
       "\n",
       "    .dataframe tbody tr th {\n",
       "        vertical-align: top;\n",
       "    }\n",
       "\n",
       "    .dataframe thead th {\n",
       "        text-align: right;\n",
       "    }\n",
       "</style>\n",
       "<table border=\"1\" class=\"dataframe\">\n",
       "  <thead>\n",
       "    <tr style=\"text-align: right;\">\n",
       "      <th></th>\n",
       "      <th>lat</th>\n",
       "      <th>lon</th>\n",
       "      <th>pixel_value_num</th>\n",
       "      <th>land_cover</th>\n",
       "    </tr>\n",
       "  </thead>\n",
       "  <tbody>\n",
       "    <tr>\n",
       "      <td>1549</td>\n",
       "      <td>32.707421</td>\n",
       "      <td>-86.414659</td>\n",
       "      <td>152</td>\n",
       "      <td>Shrubland</td>\n",
       "    </tr>\n",
       "    <tr>\n",
       "      <td>1550</td>\n",
       "      <td>32.707393</td>\n",
       "      <td>-86.414339</td>\n",
       "      <td>152</td>\n",
       "      <td>Shrubland</td>\n",
       "    </tr>\n",
       "    <tr>\n",
       "      <td>1551</td>\n",
       "      <td>32.707366</td>\n",
       "      <td>-86.414019</td>\n",
       "      <td>152</td>\n",
       "      <td>Shrubland</td>\n",
       "    </tr>\n",
       "    <tr>\n",
       "      <td>1552</td>\n",
       "      <td>32.707339</td>\n",
       "      <td>-86.413699</td>\n",
       "      <td>141</td>\n",
       "      <td>Deciduous Forest</td>\n",
       "    </tr>\n",
       "    <tr>\n",
       "      <td>1553</td>\n",
       "      <td>32.707312</td>\n",
       "      <td>-86.413378</td>\n",
       "      <td>141</td>\n",
       "      <td>Deciduous Forest</td>\n",
       "    </tr>\n",
       "    <tr>\n",
       "      <td>...</td>\n",
       "      <td>...</td>\n",
       "      <td>...</td>\n",
       "      <td>...</td>\n",
       "      <td>...</td>\n",
       "    </tr>\n",
       "    <tr>\n",
       "      <td>2675667</td>\n",
       "      <td>32.307787</td>\n",
       "      <td>-86.810985</td>\n",
       "      <td>111</td>\n",
       "      <td>Open Water</td>\n",
       "    </tr>\n",
       "    <tr>\n",
       "      <td>2675668</td>\n",
       "      <td>32.307761</td>\n",
       "      <td>-86.810666</td>\n",
       "      <td>111</td>\n",
       "      <td>Open Water</td>\n",
       "    </tr>\n",
       "    <tr>\n",
       "      <td>2675669</td>\n",
       "      <td>32.307735</td>\n",
       "      <td>-86.810347</td>\n",
       "      <td>111</td>\n",
       "      <td>Open Water</td>\n",
       "    </tr>\n",
       "    <tr>\n",
       "      <td>2675670</td>\n",
       "      <td>32.307709</td>\n",
       "      <td>-86.810028</td>\n",
       "      <td>111</td>\n",
       "      <td>Open Water</td>\n",
       "    </tr>\n",
       "    <tr>\n",
       "      <td>2675671</td>\n",
       "      <td>32.307683</td>\n",
       "      <td>-86.809710</td>\n",
       "      <td>111</td>\n",
       "      <td>Open Water</td>\n",
       "    </tr>\n",
       "  </tbody>\n",
       "</table>\n",
       "<p>1738141 rows × 4 columns</p>\n",
       "</div>"
      ],
      "text/plain": [
       "               lat        lon  pixel_value_num        land_cover\n",
       "1549     32.707421 -86.414659              152         Shrubland\n",
       "1550     32.707393 -86.414339              152         Shrubland\n",
       "1551     32.707366 -86.414019              152         Shrubland\n",
       "1552     32.707339 -86.413699              141  Deciduous Forest\n",
       "1553     32.707312 -86.413378              141  Deciduous Forest\n",
       "...            ...        ...              ...               ...\n",
       "2675667  32.307787 -86.810985              111        Open Water\n",
       "2675668  32.307761 -86.810666              111        Open Water\n",
       "2675669  32.307735 -86.810347              111        Open Water\n",
       "2675670  32.307709 -86.810028              111        Open Water\n",
       "2675671  32.307683 -86.809710              111        Open Water\n",
       "\n",
       "[1738141 rows x 4 columns]"
      ]
     },
     "execution_count": 6,
     "metadata": {},
     "output_type": "execute_result"
    }
   ],
   "source": [
    "final_df['pixel_value_num'] = final_df['pixel_value_num'].astype('int64')\n",
    "final_df = final_df[final_df.land_cover != 'Background']\n",
    "final_df"
   ]
  },
  {
   "cell_type": "markdown",
   "metadata": {},
   "source": [
    "I sanity check the last row of this dataframe, which should be open water.\n",
    "\n",
    "![](./img/sanity_check1.png)\n",
    "![](./img/sanity_check2.png)\n",
    "\n",
    "Yep."
   ]
  },
  {
   "cell_type": "code",
   "execution_count": 7,
   "metadata": {},
   "outputs": [],
   "source": [
    "# write it\n",
    "final_df.to_csv('jcm_dataset.csv', index=False)"
   ]
  },
  {
   "cell_type": "markdown",
   "metadata": {},
   "source": [
    "### Closing notes\n",
    "\n",
    "So right now the data is about as spatially disaggregated as one can have it. Aggregating up again to zip codes, counties, states, etc. is indeed possible, and would probably be best done by retrieving the appropriate shapefile(s) from census data or an appropriate government source online, and checking whether the lat, lon coordinates fall within a certain shapefile.\n",
    "\n",
    "Alternatively, one could also use the [Google Maps API](https://github.com/shugamoe/ucpd_reports/blob/master/coords.py) to aggregate up to zip codes, counties, and states, or create some sort of bot to utilize CropScape's area of interest button to assist in aggregation (bot specifies aggregation area, and the .tif file can be parsed with a column to acknowledge the .tif file's aggregation level)."
   ]
  }
 ],
 "metadata": {
  "kernelspec": {
   "display_name": "Python 3",
   "language": "python",
   "name": "python3"
  },
  "language_info": {
   "codemirror_mode": {
    "name": "ipython",
    "version": 3
   },
   "file_extension": ".py",
   "mimetype": "text/x-python",
   "name": "python",
   "nbconvert_exporter": "python",
   "pygments_lexer": "ipython3",
   "version": "3.7.4"
  }
 },
 "nbformat": 4,
 "nbformat_minor": 2
}
